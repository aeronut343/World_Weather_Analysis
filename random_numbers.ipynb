{
 "cells": [
  {
   "cell_type": "code",
   "execution_count": 1,
   "id": "cade82d4",
   "metadata": {},
   "outputs": [],
   "source": [
    "import random"
   ]
  },
  {
   "cell_type": "code",
   "execution_count": 2,
   "id": "b895aba7",
   "metadata": {},
   "outputs": [
    {
     "data": {
      "text/plain": [
       "59"
      ]
     },
     "execution_count": 2,
     "metadata": {},
     "output_type": "execute_result"
    }
   ],
   "source": [
    "random.randint(-90,90)"
   ]
  },
  {
   "cell_type": "code",
   "execution_count": 3,
   "id": "ce4a4287",
   "metadata": {},
   "outputs": [
    {
     "data": {
      "text/plain": [
       "0.983685709695827"
      ]
     },
     "execution_count": 3,
     "metadata": {},
     "output_type": "execute_result"
    }
   ],
   "source": [
    "random.random()"
   ]
  },
  {
   "cell_type": "code",
   "execution_count": 4,
   "id": "4bfcc917",
   "metadata": {},
   "outputs": [
    {
     "data": {
      "text/plain": [
       "-75.05687578019092"
      ]
     },
     "execution_count": 4,
     "metadata": {},
     "output_type": "execute_result"
    }
   ],
   "source": [
    "random_number = random.randint(-90,89) + random.random()\n",
    "random_number"
   ]
  },
  {
   "cell_type": "code",
   "execution_count": 5,
   "id": "8b757cf8",
   "metadata": {},
   "outputs": [],
   "source": [
    "x = 1\n",
    "latitudes = []\n",
    "while x < 11:\n",
    "    random_lat = random.randint(-90, 89) + random.random()\n",
    "    latitudes.append(random_lat)\n",
    "    x += 1"
   ]
  },
  {
   "cell_type": "code",
   "execution_count": 6,
   "id": "25fc1b00",
   "metadata": {},
   "outputs": [
    {
     "data": {
      "text/plain": [
       "[5.833787307495955,\n",
       " -61.751109959340226,\n",
       " 26.54340937154614,\n",
       " 53.09691602537948,\n",
       " 88.29995027973177,\n",
       " 7.621702383885101,\n",
       " -47.213390060861556,\n",
       " 37.19886775148598,\n",
       " 36.65079886782793,\n",
       " 36.15708837805086]"
      ]
     },
     "execution_count": 6,
     "metadata": {},
     "output_type": "execute_result"
    }
   ],
   "source": [
    "latitudes"
   ]
  },
  {
   "cell_type": "code",
   "execution_count": 7,
   "id": "3246d024",
   "metadata": {},
   "outputs": [
    {
     "data": {
      "text/plain": [
       "-46"
      ]
     },
     "execution_count": 7,
     "metadata": {},
     "output_type": "execute_result"
    }
   ],
   "source": [
    "random.randrange(-90, 90, step=1)"
   ]
  },
  {
   "cell_type": "code",
   "execution_count": 8,
   "id": "705446fc",
   "metadata": {},
   "outputs": [
    {
     "data": {
      "text/plain": [
       "74.90692420048634"
      ]
     },
     "execution_count": 8,
     "metadata": {},
     "output_type": "execute_result"
    }
   ],
   "source": [
    "random.uniform(-90, 90)"
   ]
  },
  {
   "cell_type": "code",
   "execution_count": 9,
   "id": "a6b4c17f",
   "metadata": {},
   "outputs": [],
   "source": [
    "import numpy as np"
   ]
  },
  {
   "cell_type": "code",
   "execution_count": 11,
   "id": "a984df48",
   "metadata": {},
   "outputs": [
    {
     "data": {
      "text/plain": [
       "array([ 33.69974678,  57.93397877,  87.28093204, -21.93032541,\n",
       "        84.66920254, -40.91984751,  62.33971321, -23.14470955,\n",
       "       -61.61171183, -52.33082614,  55.01434619,   3.45357363,\n",
       "        59.06182854, -46.53630586, -18.29002632, -21.55473052,\n",
       "        38.71859962, -51.33132247,  33.6616709 ,  -8.68216218,\n",
       "       -84.8773627 ,  86.12436086,  30.92403228,  89.32399522,\n",
       "       -50.82876583,  16.24330665, -30.55058632,  68.58899053,\n",
       "       -71.53117001,  11.16833371, -67.35923576,  11.46845433,\n",
       "        -2.51664269,  69.75559101, -44.78262696,  13.7235495 ,\n",
       "       -51.09582449,  36.47575948,  16.73114176, -87.58964484,\n",
       "       -52.94296259, -24.81975453,  47.89439102, -10.21291514,\n",
       "       -26.25591185, -25.4117149 , -77.11172451, -88.80877543,\n",
       "        39.74864289,  63.2906876 ])"
      ]
     },
     "execution_count": 11,
     "metadata": {},
     "output_type": "execute_result"
    }
   ],
   "source": [
    "np.random.uniform(-90.000, 90.000,size=50)"
   ]
  },
  {
   "cell_type": "code",
   "execution_count": 12,
   "id": "4a83e240",
   "metadata": {},
   "outputs": [],
   "source": [
    "import timeit"
   ]
  },
  {
   "cell_type": "code",
   "execution_count": 13,
   "id": "dea72e0e",
   "metadata": {},
   "outputs": [
    {
     "name": "stdout",
     "output_type": "stream",
     "text": [
      "12.8 µs ± 161 ns per loop (mean ± std. dev. of 7 runs, 100000 loops each)\n"
     ]
    }
   ],
   "source": [
    "%timeit np.random.uniform(-90.000, 90.000, size=1500)"
   ]
  },
  {
   "cell_type": "code",
   "execution_count": 16,
   "id": "d4fec4a4",
   "metadata": {},
   "outputs": [
    {
     "name": "stdout",
     "output_type": "stream",
     "text": [
      "1.64 ms ± 19.2 µs per loop (mean ± std. dev. of 7 runs, 1000 loops each)\n"
     ]
    }
   ],
   "source": [
    "def latitudes(size):\n",
    "    latitudes = []\n",
    "    x = 0\n",
    "    for x in range(0,1501,1):\n",
    "        random_lat = random.randint(-90, 90) + random.random()\n",
    "        latitudes.append(random_lat)\n",
    "    return latitudes\n",
    "# Call the function with 1500.\n",
    "%timeit latitudes(1500)"
   ]
  },
  {
   "cell_type": "code",
   "execution_count": null,
   "id": "6ba7be9a",
   "metadata": {},
   "outputs": [],
   "source": []
  }
 ],
 "metadata": {
  "kernelspec": {
   "display_name": "PythonData",
   "language": "python",
   "name": "pythondata"
  },
  "language_info": {
   "codemirror_mode": {
    "name": "ipython",
    "version": 3
   },
   "file_extension": ".py",
   "mimetype": "text/x-python",
   "name": "python",
   "nbconvert_exporter": "python",
   "pygments_lexer": "ipython3",
   "version": "3.7.10"
  }
 },
 "nbformat": 4,
 "nbformat_minor": 5
}
